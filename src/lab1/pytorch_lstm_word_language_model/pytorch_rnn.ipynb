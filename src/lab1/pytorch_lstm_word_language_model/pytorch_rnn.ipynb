{
 "cells": [
  {
   "cell_type": "markdown",
   "metadata": {},
   "source": [
    "# Word-level language modeling using PyTorch"
   ]
  },
  {
   "cell_type": "markdown",
   "metadata": {},
   "source": [
    "[Reference Source: PyTorch Example from SageMaker](https://github.com/awslabs/amazon-sagemaker-examples/tree/master/sagemaker-python-sdk/pytorch_lstm_word_language_model)"
   ]
  },
  {
   "cell_type": "markdown",
   "metadata": {},
   "source": [
    "## Contents\n",
    "\n",
    "1. [Setup](#Setup)\n",
    "1. [Data](#Data)\n",
    "1. [Train](#Train)\n",
    "1. [Host](#Host)\n",
    "\n",
    "---\n",
    "\n",
    "## Setup\n",
    "\n",
    "_This notebook was created and tested on an ml.p2.xlarge notebook instance._\n",
    "\n",
    "Let's start by creating a SageMaker session and specifying:\n",
    "\n",
    "- The S3 bucket and prefix that you want to use for training and model data.  This should be within the same region as the Notebook Instance, training, and hosting.\n",
    "- The IAM role arn used to give training and hosting access to your data. See [the documentation](https://docs.aws.amazon.com/sagemaker/latest/dg/sagemaker-roles.html) for how to create these.  Note, if more than one role is required for notebook instances, training, and/or hosting, please replace the sagemaker.get_execution_role() with appropriate full IAM role arn string(s).\n"
   ]
  },
  {
   "cell_type": "code",
   "execution_count": 1,
   "metadata": {},
   "outputs": [],
   "source": [
    "import sagemaker\n",
    "\n",
    "sagemaker_session = sagemaker.Session()\n",
    "\n",
    "bucket = sagemaker_session.default_bucket()\n",
    "prefix = 'sagemaker/DEMO-pytorch-rnn-lstm'\n",
    "\n",
    "role = sagemaker.get_execution_role()"
   ]
  },
  {
   "cell_type": "markdown",
   "metadata": {},
   "source": [
    "## Data\n",
    "### Getting the data\n",
    "As mentioned above we are going to use [the wikitext-2 raw data](https://www.salesforce.com/products/einstein/ai-research/the-wikitext-dependency-language-modeling-dataset/). This data is from Wikipedia and is licensed CC-BY-SA-3.0. Before you use this data for any other purpose than this example, you should understand the data license, described at https://creativecommons.org/licenses/by-sa/3.0/"
   ]
  },
  {
   "cell_type": "code",
   "execution_count": 2,
   "metadata": {},
   "outputs": [
    {
     "name": "stdout",
     "output_type": "stream",
     "text": [
      "Archive:  wikitext-2-raw-v1.zip\n",
      "  inflating: wikitext-2-raw/wiki.test.raw  \n",
      "  inflating: wikitext-2-raw/wiki.valid.raw  \n",
      "  inflating: wikitext-2-raw/wiki.train.raw  \n"
     ]
    },
    {
     "name": "stderr",
     "output_type": "stream",
     "text": [
      "--2019-11-26 18:56:59--  http://research.metamind.io.s3.amazonaws.com/wikitext/wikitext-2-raw-v1.zip\n",
      "Resolving research.metamind.io.s3.amazonaws.com (research.metamind.io.s3.amazonaws.com)... 52.217.45.28\n",
      "Connecting to research.metamind.io.s3.amazonaws.com (research.metamind.io.s3.amazonaws.com)|52.217.45.28|:80... connected.\n",
      "HTTP request sent, awaiting response... 200 OK\n",
      "Length: 4721645 (4.5M) [application/zip]\n",
      "Saving to: ‘wikitext-2-raw-v1.zip.2’\n",
      "\n",
      "     0K .......... .......... .......... .......... ..........  1%  349K 13s\n",
      "    50K .......... .......... .......... .......... ..........  2% 1.44M 8s\n",
      "   100K .......... .......... .......... .......... ..........  3% 1.27M 6s\n",
      "   150K .......... .......... .......... .......... ..........  4% 64.0M 5s\n",
      "   200K .......... .......... .......... .......... ..........  5%  704K 5s\n",
      "   250K .......... .......... .......... .......... ..........  6% 77.1M 4s\n",
      "   300K .......... .......... .......... .......... ..........  7% 60.4M 4s\n",
      "   350K .......... .......... .......... .......... ..........  8% 65.8M 3s\n",
      "   400K .......... .......... .......... .......... ..........  9% 1.58M 3s\n",
      "   450K .......... .......... .......... .......... .......... 10% 1.28M 3s\n",
      "   500K .......... .......... .......... .......... .......... 11% 77.4M 3s\n",
      "   550K .......... .......... .......... .......... .......... 13% 71.6M 2s\n",
      "   600K .......... .......... .......... .......... .......... 14% 70.5M 2s\n",
      "   650K .......... .......... .......... .......... .......... 15%  109M 2s\n",
      "   700K .......... .......... .......... .......... .......... 16%  147M 2s\n",
      "   750K .......... .......... .......... .......... .......... 17%  128M 2s\n",
      "   800K .......... .......... .......... .......... .......... 18%  102M 2s\n",
      "   850K .......... .......... .......... .......... .......... 19% 1.64M 2s\n",
      "   900K .......... .......... .......... .......... .......... 20% 1.28M 2s\n",
      "   950K .......... .......... .......... .......... .......... 21%  152M 2s\n",
      "  1000K .......... .......... .......... .......... .......... 22% 88.2M 1s\n",
      "  1050K .......... .......... .......... .......... .......... 23%  147M 1s\n",
      "  1100K .......... .......... .......... .......... .......... 24%  110M 1s\n",
      "  1150K .......... .......... .......... .......... .......... 26%  166M 1s\n",
      "  1200K .......... .......... .......... .......... .......... 27%  136M 1s\n",
      "  1250K .......... .......... .......... .......... .......... 28%  179M 1s\n",
      "  1300K .......... .......... .......... .......... .......... 29%  133M 1s\n",
      "  1350K .......... .......... .......... .......... .......... 30%  147M 1s\n",
      "  1400K .......... .......... .......... .......... .......... 31%  259M 1s\n",
      "  1450K .......... .......... .......... .......... .......... 32%  174M 1s\n",
      "  1500K .......... .......... .......... .......... .......... 33%  165M 1s\n",
      "  1550K .......... .......... .......... .......... .......... 34%  262M 1s\n",
      "  1600K .......... .......... .......... .......... .......... 35%  207M 1s\n",
      "  1650K .......... .......... .......... .......... .......... 36%  296M 1s\n",
      "  1700K .......... .......... .......... .......... .......... 37%  331M 1s\n",
      "  1750K .......... .......... .......... .......... .......... 39% 1.69M 1s\n",
      "  1800K .......... .......... .......... .......... .......... 40%  207M 1s\n",
      "  1850K .......... .......... .......... .......... .......... 41% 1.29M 1s\n",
      "  1900K .......... .......... .......... .......... .......... 42%  172M 1s\n",
      "  1950K .......... .......... .......... .......... .......... 43%  149M 1s\n",
      "  2000K .......... .......... .......... .......... .......... 44%  155M 1s\n",
      "  2050K .......... .......... .......... .......... .......... 45%  156M 1s\n",
      "  2100K .......... .......... .......... .......... .......... 46%  133M 1s\n",
      "  2150K .......... .......... .......... .......... .......... 47%  177M 1s\n",
      "  2200K .......... .......... .......... .......... .......... 48%  153M 1s\n",
      "  2250K .......... .......... .......... .......... .......... 49%  136M 1s\n",
      "  2300K .......... .......... .......... .......... .......... 50%  226M 0s\n",
      "  2350K .......... .......... .......... .......... .......... 52%  163M 0s\n",
      "  2400K .......... .......... .......... .......... .......... 53%  200M 0s\n",
      "  2450K .......... .......... .......... .......... .......... 54%  147M 0s\n",
      "  2500K .......... .......... .......... .......... .......... 55%  233M 0s\n",
      "  2550K .......... .......... .......... .......... .......... 56%  203M 0s\n",
      "  2600K .......... .......... .......... .......... .......... 57%  124M 0s\n",
      "  2650K .......... .......... .......... .......... .......... 58%  208M 0s\n",
      "  2700K .......... .......... .......... .......... .......... 59%  238M 0s\n",
      "  2750K .......... .......... .......... .......... .......... 60%  190M 0s\n",
      "  2800K .......... .......... .......... .......... .......... 61%  271M 0s\n",
      "  2850K .......... .......... .......... .......... .......... 62%  392M 0s\n",
      "  2900K .......... .......... .......... .......... .......... 63%  370M 0s\n",
      "  2950K .......... .......... .......... .......... .......... 65%  380M 0s\n",
      "  3000K .......... .......... .......... .......... .......... 66%  314M 0s\n",
      "  3050K .......... .......... .......... .......... .......... 67%  366M 0s\n",
      "  3100K .......... .......... .......... .......... .......... 68%  373M 0s\n",
      "  3150K .......... .......... .......... .......... .......... 69%  368M 0s\n",
      "  3200K .......... .......... .......... .......... .......... 70%  329M 0s\n",
      "  3250K .......... .......... .......... .......... .......... 71%  364M 0s\n",
      "  3300K .......... .......... .......... .......... .......... 72% 1.79M 0s\n",
      "  3350K .......... .......... .......... .......... .......... 73%  374M 0s\n",
      "  3400K .......... .......... .......... .......... .......... 74% 1.29M 0s\n",
      "  3450K .......... .......... .......... .......... .......... 75%  180M 0s\n",
      "  3500K .......... .......... .......... .......... .......... 76%  175M 0s\n",
      "  3550K .......... .......... .......... .......... .......... 78%  211M 0s\n",
      "  3600K .......... .......... .......... .......... .......... 79%  133M 0s\n",
      "  3650K .......... .......... .......... .......... .......... 80%  225M 0s\n",
      "  3700K .......... .......... .......... .......... .......... 81%  240M 0s\n",
      "  3750K .......... .......... .......... .......... .......... 82%  183M 0s\n",
      "  3800K .......... .......... .......... .......... .......... 83%  153M 0s\n",
      "  3850K .......... .......... .......... .......... .......... 84%  170M 0s\n",
      "  3900K .......... .......... .......... .......... .......... 85%  161M 0s\n",
      "  3950K .......... .......... .......... .......... .......... 86%  145M 0s\n",
      "  4000K .......... .......... .......... .......... .......... 87%  112M 0s\n",
      "  4050K .......... .......... .......... .......... .......... 88%  210M 0s\n",
      "  4100K .......... .......... .......... .......... .......... 90%  167M 0s\n",
      "  4150K .......... .......... .......... .......... .......... 91%  225M 0s\n",
      "  4200K .......... .......... .......... .......... .......... 92%  169M 0s\n",
      "  4250K .......... .......... .......... .......... .......... 93%  387M 0s\n",
      "  4300K .......... .......... .......... .......... .......... 94%  390M 0s\n",
      "  4350K .......... .......... .......... .......... .......... 95%  389M 0s\n",
      "  4400K .......... .......... .......... .......... .......... 96%  323M 0s\n",
      "  4450K .......... .......... .......... .......... .......... 97%  383M 0s\n",
      "  4500K .......... .......... .......... .......... .......... 98%  364M 0s\n",
      "  4550K .......... .......... .......... .......... .......... 99%  401M 0s\n",
      "  4600K ..........                                            100%  195M=0.6s\n",
      "\n",
      "2019-11-26 18:57:00 (7.78 MB/s) - ‘wikitext-2-raw-v1.zip.2’ saved [4721645/4721645]\n",
      "\n"
     ]
    }
   ],
   "source": [
    "%%bash\n",
    "wget http://research.metamind.io.s3.amazonaws.com/wikitext/wikitext-2-raw-v1.zip\n",
    "unzip -n wikitext-2-raw-v1.zip\n",
    "cd wikitext-2-raw\n",
    "mv wiki.test.raw test && mv wiki.train.raw train && mv wiki.valid.raw valid\n"
   ]
  },
  {
   "cell_type": "markdown",
   "metadata": {},
   "source": [
    "Let's preview what data looks like."
   ]
  },
  {
   "cell_type": "code",
   "execution_count": 3,
   "metadata": {},
   "outputs": [
    {
     "name": "stdout",
     "output_type": "stream",
     "text": [
      " \n",
      " = Valkyria Chronicles III = \n",
      " \n",
      " Senjō no Valkyria 3 : Unrecorded Chronicles ( Japanese : 戦場のヴァルキュリア3 , lit . Valkyria of the Battlefield 3 ) , commonly referred to as Valkyria Chronicles III outside Japan , is a tactical role @-@ playing video game developed by Sega and Media.Vision for the PlayStation Portable . Released in January 2011 in Japan , it is the third game in the Valkyria series . Employing the same fusion of tactical and real @-@ time gameplay as its predecessors , the story runs parallel to the first game and follows the \" Nameless \" , a penal military unit serving the nation of Gallia during the Second Europan War who perform secret black operations and are pitted against the Imperial unit \" Calamaty Raven \" . \n",
      " The game began development in 2010 , carrying over a large portion of the work done on Valkyria Chronicles II . While it retained the standard features of the series , it also underwent multiple adjustments , such as making the game more forgiving for series newcomers . Character designer Raita Honjou and composer Hitoshi Sakimoto both returned from previous entries , along with Valkyria Chronicles II director Takeshi Ozawa . A large team of writers handled the script . The game 's opening theme was sung by May 'n . \n"
     ]
    }
   ],
   "source": [
    "!head -5 wikitext-2-raw/train"
   ]
  },
  {
   "cell_type": "markdown",
   "metadata": {},
   "source": [
    "### Uploading the data to S3\n",
    "We are going to use the `sagemaker.Session.upload_data` function to upload our datasets to an S3 location. The return value inputs identifies the location -- we will use later when we start the training job.\n",
    "\n"
   ]
  },
  {
   "cell_type": "code",
   "execution_count": 4,
   "metadata": {},
   "outputs": [
    {
     "name": "stdout",
     "output_type": "stream",
     "text": [
      "input spec (in this case, just an S3 path): s3://sagemaker-us-west-2-111652037296/sagemaker/DEMO-pytorch-rnn-lstm\n"
     ]
    }
   ],
   "source": [
    "inputs = sagemaker_session.upload_data(path='wikitext-2-raw', bucket=bucket, key_prefix=prefix)\n",
    "print('input spec (in this case, just an S3 path): {}'.format(inputs))"
   ]
  },
  {
   "cell_type": "markdown",
   "metadata": {},
   "source": [
    "## Train\n",
    "### Training script\n",
    "We need to provide a training script that can run on the SageMaker platform. The training script is very similar to a training script you might run outside of SageMaker, but you can access useful properties about the training environment through various environment variables, such as:\n",
    "\n",
    "* `SM_MODEL_DIR`: A string representing the path to the directory to write model artifacts to.\n",
    "  These artifacts are uploaded to S3 for model hosting.\n",
    "* `SM_OUTPUT_DATA_DIR`: A string representing the filesystem path to write output artifacts to. Output artifacts may\n",
    "  include checkpoints, graphs, and other files to save, not including model artifacts. These artifacts are compressed\n",
    "  and uploaded to S3 to the same S3 prefix as the model artifacts.\n",
    "\n",
    "Supposing one input channel, 'training', was used in the call to the PyTorch estimator's `fit()` method,\n",
    "the following will be set, following the format `SM_CHANNEL_[channel_name]`:\n",
    "\n",
    "* `SM_CHANNEL_TRAINING`: A string representing the path to the directory containing data in the 'training' channel.\n",
    "\n",
    "A typical training script loads data from the input channels, configures training with hyperparameters, trains a model, and saves a model to `model_dir` so that it can be hosted later. Hyperparameters are passed to your script as arguments and can be retrieved with an `argparse.ArgumentParser` instance. "
   ]
  },
  {
   "cell_type": "markdown",
   "metadata": {},
   "source": [
    "A typical training script loads data from the input channels, configures training with hyperparameters, trains a model, and saves a model to `model_dir` so that it can be hosted later. Hyperparameters are passed to your script as arguments and can be retrieved with an `argparse.ArgumentParser` instance. \n",
    "\n",
    "For example, the script run by this notebook: \n",
    "[https://github.com/awslabs/amazon-sagemaker-examples/blob/training-scripts/pytorch-rnn-scripts/train.py](https://github.com/awslabs/amazon-sagemaker-examples/blob/training-scripts/pytorch-rnn-scripts/train.py). \n",
    "\n",
    "For more information about training environment variables, please visit [SageMaker Containers](https://github.com/aws/sagemaker-containers)."
   ]
  },
  {
   "cell_type": "markdown",
   "metadata": {},
   "source": [
    "In the current example we also need to provide source directory, because training script imports data and model classes from other modules. The source directory is \n",
    "[https://github.com/awslabs/amazon-sagemaker-examples/blob/training-scripts/pytorch-rnn-scripts/](https://github.com/awslabs/amazon-sagemaker-examples/blob/training-scripts/pytorch-rnn-scripts/). We should provide 'pytorch-rnn-scripts' for `source_dir` when creating the Estimator object, which is a relative path inside the Git repository. \n"
   ]
  },
  {
   "cell_type": "markdown",
   "metadata": {},
   "source": [
    "### Run training in SageMaker\n",
    "The PyTorch class allows us to run our training function as a training job on SageMaker infrastructure. We need to configure it with our training script and source directory, an IAM role, the number of training instances, and the training instance type. In this case we will run our training job on ```ml.p2.xlarge``` instance. As you can see in this example you can also specify hyperparameters. \n",
    "\n",
    "Here we are using a prebuilt container for training our script, if you want to create your own please navigate to - https://github.com/aws/sagemaker-pytorch-container\n"
   ]
  },
  {
   "cell_type": "code",
   "execution_count": 5,
   "metadata": {},
   "outputs": [],
   "source": [
    "from sagemaker.pytorch import PyTorch\n",
    "\n",
    "estimator = PyTorch(entry_point='train.py',\n",
    "                    role=role,\n",
    "                    framework_version='1.2.0',\n",
    "                    train_instance_count=1,\n",
    "                    train_instance_type='ml.p2.xlarge',\n",
    "                    source_dir='pytorch-rnn-scripts',\n",
    "                    # available hyperparameters: emsize, nhid, nlayers, lr, clip, epochs, batch_size,\n",
    "                    #                            bptt, dropout, tied, seed, log_interval\n",
    "                    hyperparameters={\n",
    "                        'epochs': 6,\n",
    "                        'tied': True\n",
    "                    })\n"
   ]
  },
  {
   "cell_type": "markdown",
   "metadata": {},
   "source": [
    "After we've constructed our PyTorch object, we can fit it using the data we uploaded to S3. SageMaker makes sure our data is available in the local filesystem, so our training script can simply read the data from disk."
   ]
  },
  {
   "cell_type": "code",
   "execution_count": null,
   "metadata": {},
   "outputs": [
    {
     "name": "stdout",
     "output_type": "stream",
     "text": [
      "2019-11-26 19:20:43 Starting - Starting the training job...\n",
      "2019-11-26 19:20:44 Starting - Launching requested ML instances......\n",
      "2019-11-26 19:21:43 Starting - Preparing the instances for training...\n",
      "2019-11-26 19:22:36 Downloading - Downloading input data...\n",
      "2019-11-26 19:22:49 Training - Downloading the training image..."
     ]
    }
   ],
   "source": [
    "estimator.fit({'training': inputs})"
   ]
  },
  {
   "cell_type": "markdown",
   "metadata": {},
   "source": [
    "## Host\n",
    "### Hosting script\n",
    "We are going to provide custom implementation of `model_fn`, `input_fn`, `output_fn` and `predict_fn` hosting functions in a separate file, which is in the same Git repo as the training script: \n",
    "[https://github.com/awslabs/amazon-sagemaker-examples/blob/training-scripts/pytorch-rnn-scripts/generate.py](https://github.com/awslabs/amazon-sagemaker-examples/blob/training-scripts/pytorch-rnn-scripts/generate.py). \n",
    "We will use Git integration for hosting too since the hosting code is also in the Git repo. \n"
   ]
  },
  {
   "cell_type": "markdown",
   "metadata": {},
   "source": [
    "You can also put your training and hosting code in the same file but you would need to add a main guard (`if __name__=='__main__':`) for the training code, so that the container does not inadvertently run it at the wrong point in execution during hosting."
   ]
  },
  {
   "cell_type": "markdown",
   "metadata": {},
   "source": [
    "### Import model into SageMaker\n",
    "The PyTorch model uses a npy serializer and deserializer by default. For this example, since we have a custom implementation of all the hosting functions and plan on using JSON instead, we need a predictor that can serialize and deserialize JSON."
   ]
  },
  {
   "cell_type": "code",
   "execution_count": null,
   "metadata": {},
   "outputs": [],
   "source": [
    "from sagemaker.predictor import RealTimePredictor, json_serializer, json_deserializer\n",
    "\n",
    "class JSONPredictor(RealTimePredictor):\n",
    "    def __init__(self, endpoint_name, sagemaker_session):\n",
    "        super(JSONPredictor, self).__init__(endpoint_name, sagemaker_session, json_serializer, json_deserializer)"
   ]
  },
  {
   "cell_type": "markdown",
   "metadata": {},
   "source": [
    "Since hosting functions implemented outside of train script we can't just use estimator object to deploy the model. Instead we need to create a PyTorchModel object using the latest training job to get the S3 location of the trained model data. Besides model data location in S3, we also need to configure PyTorchModel with the script and source directory (because our `generate` script requires model and data classes from source directory), an IAM role."
   ]
  },
  {
   "cell_type": "code",
   "execution_count": null,
   "metadata": {},
   "outputs": [],
   "source": [
    "from sagemaker.pytorch import PyTorchModel\n",
    "\n",
    "training_job_name = estimator.latest_training_job.name\n",
    "desc = sagemaker_session.sagemaker_client.describe_training_job(TrainingJobName=training_job_name)\n",
    "trained_model_location = desc['ModelArtifacts']['S3ModelArtifacts']\n",
    "model = PyTorchModel(model_data=trained_model_location,\n",
    "                     role=role,\n",
    "                     framework_version='1.0.0',\n",
    "                     entry_point='generate.py',\n",
    "                     source_dir='pytorch-rnn-scripts',\n",
    "                     predictor_cls=JSONPredictor)"
   ]
  },
  {
   "cell_type": "markdown",
   "metadata": {},
   "source": [
    "### Create endpoint\n",
    "\n",
    "Now the model is ready to be deployed at a SageMaker endpoint and we are going to use the `sagemaker.pytorch.model.PyTorchModel.deploy` method to do this. We can use a CPU-based instance for inference (in this case an ml.m4.xlarge), even though we trained on GPU instances, because at the end of training we moved model to cpu before returning it. This way we can load trained model on any device and then move to GPU if CUDA is available. \n"
   ]
  },
  {
   "cell_type": "code",
   "execution_count": null,
   "metadata": {},
   "outputs": [],
   "source": [
    "predictor = model.deploy(initial_instance_count=1, instance_type='ml.m4.xlarge')"
   ]
  },
  {
   "cell_type": "markdown",
   "metadata": {},
   "source": [
    "### Evaluate\n",
    "We are going to use our deployed model to generate text by providing random seed, temperature (higher will increase diversity) and number of words we would like to get."
   ]
  },
  {
   "cell_type": "code",
   "execution_count": null,
   "metadata": {},
   "outputs": [],
   "source": [
    "input = {\n",
    "    'seed': 200,\n",
    "    'temperature': 510.0,\n",
    "    'words': 200\n",
    "}\n",
    "response = predictor.predict(input)\n",
    "print(response)"
   ]
  },
  {
   "cell_type": "markdown",
   "metadata": {},
   "source": [
    "### Cleanup\n",
    "\n",
    "After you have finished with this example, remember to delete the prediction endpoint to release the instance(s) associated with it.\n"
   ]
  },
  {
   "cell_type": "code",
   "execution_count": null,
   "metadata": {},
   "outputs": [],
   "source": [
    "sagemaker_session.delete_endpoint(predictor.endpoint)"
   ]
  }
 ],
 "metadata": {
  "kernelspec": {
   "display_name": "conda_pytorch_p36",
   "language": "python",
   "name": "conda_pytorch_p36"
  },
  "language_info": {
   "codemirror_mode": {
    "name": "ipython",
    "version": 3
   },
   "file_extension": ".py",
   "mimetype": "text/x-python",
   "name": "python",
   "nbconvert_exporter": "python",
   "pygments_lexer": "ipython3",
   "version": "3.6.5"
  },
  "notice": "Copyright 2018 Amazon.com, Inc. or its affiliates. All Rights Reserved.  Licensed under the Apache License, Version 2.0 (the \"License\"). You may not use this file except in compliance with the License. A copy of the License is located at http://aws.amazon.com/apache2.0/ or in the \"license\" file accompanying this file. This file is distributed on an \"AS IS\" BASIS, WITHOUT WARRANTIES OR CONDITIONS OF ANY KIND, either express or implied. See the License for the specific language governing permissions and limitations under the License."
 },
 "nbformat": 4,
 "nbformat_minor": 4
}
