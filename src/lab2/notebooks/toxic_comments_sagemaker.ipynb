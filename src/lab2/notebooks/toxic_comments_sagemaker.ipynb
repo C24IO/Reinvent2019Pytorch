{
 "cells": [
  {
   "cell_type": "code",
   "execution_count": 2,
   "metadata": {},
   "outputs": [],
   "source": [
    "role = sagemaker.get_execution_role()\n",
    "session = sagemaker.Session()"
   ]
  },
  {
   "cell_type": "markdown",
   "metadata": {},
   "source": [
    "## Setup Path "
   ]
  },
  {
   "cell_type": "code",
   "execution_count": 3,
   "metadata": {},
   "outputs": [],
   "source": [
    "# location for train.csv, val.csv and labels.csv\n",
    "DATA_PATH = Path(\"../sm-data/\")   \n",
    "\n",
    "# Location for storing training_config.json\n",
    "CONFIG_PATH = DATA_PATH/'config'\n",
    "CONFIG_PATH.mkdir(exist_ok=True)\n",
    "\n",
    "suffix = str(np.random.uniform())[4:9]\n",
    "\n",
    "# S3 bucket name\n",
    "bucket = 'toxic-pytorch-sagemaker-' + suffix\n",
    "\n",
    "# Prefix for S3 bucket for input and output\n",
    "prefix = 'toxic_comments/input'\n",
    "prefix_output = 'toxic_comments/output'"
   ]
  },
  {
   "cell_type": "code",
   "execution_count": 4,
   "metadata": {},
   "outputs": [
    {
     "name": "stdout",
     "output_type": "stream",
     "text": [
      "make_bucket: toxic-pytorch-sagemaker-74660\n"
     ]
    }
   ],
   "source": [
    "!aws s3 mb s3://{bucket}"
   ]
  },
  {
   "cell_type": "markdown",
   "metadata": {},
   "source": [
    "## Hyperparameters & Training Config"
   ]
  },
  {
   "cell_type": "code",
   "execution_count": 5,
   "metadata": {},
   "outputs": [],
   "source": [
    "hyperparameters = {\n",
    "    \"epochs\": 10,\n",
    "    \"lr\": 8e-5,\n",
    "    \"max_seq_length\": 512,\n",
    "    \"train_batch_size\": 16,\n",
    "    \"lr_schedule\": \"warmup_cosine\",\n",
    "    \"warmup_steps\": 1000,\n",
    "    \"optimizer_type\": \"adamw\"\n",
    "}"
   ]
  },
  {
   "cell_type": "code",
   "execution_count": 6,
   "metadata": {},
   "outputs": [],
   "source": [
    "training_config = {\n",
    "    \"run_text\": \"toxic comments\",\n",
    "    \"finetuned_model\": None,\n",
    "    \"do_lower_case\": \"True\",\n",
    "    \"train_file\": \"train.csv\",\n",
    "    \"val_file\": \"val.csv\",\n",
    "    \"label_file\": \"labels.csv\",\n",
    "    \"text_col\": \"comment_text\",\n",
    "    \"label_col\": '[\"toxic\", \"severe_toxic\", \"obscene\", \"threat\", \"insult\", \"identity_hate\"]',\n",
    "    \"multi_label\": \"True\",\n",
    "    \"grad_accumulation_steps\": \"1\",\n",
    "    \"fp16_opt_level\": \"O1\",\n",
    "    \"fp16\": \"True\",\n",
    "    \"model_type\": \"roberta\",\n",
    "    \"model_name\": \"roberta-base\",\n",
    "    \"logging_steps\": \"300\"\n",
    "}\n",
    "\n",
    "with open(CONFIG_PATH/'training_config.json', 'w') as f:\n",
    "    json.dump(training_config, f)"
   ]
  },
  {
   "cell_type": "markdown",
   "metadata": {},
   "source": [
    "## Upload Data"
   ]
  },
  {
   "cell_type": "code",
   "execution_count": 7,
   "metadata": {},
   "outputs": [
    {
     "data": {
      "text/plain": [
       "'s3://toxic-pytorch-sagemaker-74660/toxic_comments/input/val.csv'"
      ]
     },
     "execution_count": 7,
     "metadata": {},
     "output_type": "execute_result"
    }
   ],
   "source": [
    "# This is a helper feature to upload data\n",
    "# from your local machine to S3 bucket.\n",
    "\n",
    "s3_input = session.upload_data(DATA_PATH, bucket=bucket , key_prefix=prefix)\n",
    "\n",
    "session.upload_data(str(DATA_PATH/'val.csv'), bucket=bucket , key_prefix=prefix)"
   ]
  },
  {
   "cell_type": "code",
   "execution_count": 8,
   "metadata": {},
   "outputs": [
    {
     "data": {
      "text/plain": [
       "'s3://toxic-pytorch-sagemaker-74660/toxic_comments/input/labels.csv'"
      ]
     },
     "execution_count": 8,
     "metadata": {},
     "output_type": "execute_result"
    }
   ],
   "source": [
    "session.upload_data(str(DATA_PATH/'labels.csv'), bucket=bucket , key_prefix=prefix)"
   ]
  },
  {
   "cell_type": "code",
   "execution_count": 9,
   "metadata": {},
   "outputs": [
    {
     "data": {
      "text/plain": [
       "'s3://toxic-pytorch-sagemaker-74660/toxic_comments/input/train.csv'"
      ]
     },
     "execution_count": 9,
     "metadata": {},
     "output_type": "execute_result"
    }
   ],
   "source": [
    "session.upload_data(str(DATA_PATH/'train.csv'), bucket=bucket , key_prefix=prefix)"
   ]
  },
  {
   "cell_type": "markdown",
   "metadata": {},
   "source": [
    "## Create an Estimator and start training"
   ]
  },
  {
   "cell_type": "code",
   "execution_count": 10,
   "metadata": {},
   "outputs": [],
   "source": [
    "#account = session.boto_session.client('sts').get_caller_identity()['Account']\n",
    "#region = session.boto_session.region_name\n",
    "\n",
    "#image = \"{}.dkr.ecr.{}.amazonaws.com/sagemaker-bert:1.0-gpu-py36\".format(account, region)\n",
    "image = \"111652037296.dkr.ecr.us-west-2.amazonaws.com/chazarey-sagemaker-fast-bert:1.0-gpu-py36\"\n",
    "#TODO Convert this to using SM Pytorch "
   ]
  },
  {
   "cell_type": "code",
   "execution_count": 11,
   "metadata": {},
   "outputs": [],
   "source": [
    "output_path = \"s3://{}/{}\".format(bucket, prefix_output)"
   ]
  },
  {
   "cell_type": "code",
   "execution_count": 12,
   "metadata": {},
   "outputs": [],
   "source": [
    "estimator = sagemaker.estimator.Estimator(image, \n",
    "                                          role,\n",
    "                                          train_instance_count=1, \n",
    "                                          train_instance_type='ml.p3.8xlarge', \n",
    "                                          output_path=output_path, \n",
    "                                          base_job_name='toxic-comments',\n",
    "                                          hyperparameters=hyperparameters,\n",
    "                                          sagemaker_session=session\n",
    "                                         )"
   ]
  },
  {
   "cell_type": "code",
   "execution_count": 13,
   "metadata": {},
   "outputs": [
    {
     "name": "stdout",
     "output_type": "stream",
     "text": [
      "2019-11-18 05:23:42 Starting - Starting the training job...\n",
      "2019-11-18 05:23:49 Starting - Launching requested ML instances......\n",
      "2019-11-18 05:24:52 Starting - Preparing the instances for training......\n",
      "2019-11-18 05:26:07 Downloading - Downloading input data\n",
      "2019-11-18 05:26:07 Training - Downloading the training image..............\u001b[31mStarting the training.\u001b[0m\n",
      "\u001b[31m/opt/ml/input/data/training/config/training_config.json\u001b[0m\n",
      "\u001b[31m{'run_text': 'toxic comments', 'finetuned_model': None, 'do_lower_case': 'True', 'train_file': 'train.csv', 'val_file': 'val.csv', 'label_file': 'labels.csv', 'text_col': 'comment_text', 'label_col': '[\"toxic\", \"severe_toxic\", \"obscene\", \"threat\", \"insult\", \"identity_hate\"]', 'multi_label': 'True', 'grad_accumulation_steps': '1', 'fp16_opt_level': 'O1', 'fp16': 'True', 'model_type': 'roberta', 'model_name': 'roberta-base', 'logging_steps': '300'}\u001b[0m\n",
      "\u001b[31m{'train_batch_size': '16', 'warmup_steps': '1000', 'lr': '8e-05', 'max_seq_length': '512', 'optimizer_type': 'adamw', 'lr_schedule': 'warmup_cosine', 'epochs': '10'}\u001b[0m\n",
      "\u001b[31m11/18/2019 05:28:17 - INFO - root -   model path used /opt/ml/code/pretrained_models/roberta-base\u001b[0m\n",
      "\u001b[31m11/18/2019 05:28:17 - INFO - root -   finetuned model not available - loading standard pretrained model\u001b[0m\n",
      "\u001b[31m11/18/2019 05:28:17 - INFO - transformers.tokenization_utils -   Model name '/opt/ml/code/pretrained_models/roberta-base' not found in model shortcut name list (roberta-base, roberta-large, roberta-large-mnli). Assuming '/opt/ml/code/pretrained_models/roberta-base' is a path or url to a directory containing tokenizer files.\u001b[0m\n",
      "\u001b[31m11/18/2019 05:28:17 - INFO - transformers.tokenization_utils -   Didn't find file /opt/ml/code/pretrained_models/roberta-base/added_tokens.json. We won't load it.\u001b[0m\n",
      "\u001b[31m11/18/2019 05:28:17 - INFO - transformers.tokenization_utils -   Didn't find file /opt/ml/code/pretrained_models/roberta-base/special_tokens_map.json. We won't load it.\u001b[0m\n",
      "\u001b[31m11/18/2019 05:28:17 - INFO - transformers.tokenization_utils -   Didn't find file /opt/ml/code/pretrained_models/roberta-base/tokenizer_config.json. We won't load it.\u001b[0m\n",
      "\u001b[31m11/18/2019 05:28:17 - INFO - transformers.tokenization_utils -   loading file /opt/ml/code/pretrained_models/roberta-base/vocab.json\u001b[0m\n",
      "\u001b[31m11/18/2019 05:28:17 - INFO - transformers.tokenization_utils -   loading file /opt/ml/code/pretrained_models/roberta-base/merges.txt\u001b[0m\n",
      "\u001b[31m11/18/2019 05:28:17 - INFO - transformers.tokenization_utils -   loading file None\u001b[0m\n",
      "\u001b[31m11/18/2019 05:28:17 - INFO - transformers.tokenization_utils -   loading file None\u001b[0m\n",
      "\u001b[31m11/18/2019 05:28:17 - INFO - transformers.tokenization_utils -   loading file None\u001b[0m\n",
      "\u001b[31m11/18/2019 05:28:17 - INFO - root -   Number of GPUs: 4\u001b[0m\n",
      "\u001b[31m11/18/2019 05:28:17 - INFO - root -   label columns: ['toxic', 'severe_toxic', 'obscene', 'threat', 'insult', 'identity_hate']\u001b[0m\n",
      "\u001b[31m11/18/2019 05:28:18 - INFO - root -   Writing example 0 of 1000\u001b[0m\n",
      "\u001b[31m11/18/2019 05:28:19 - INFO - root -   Saving features into cached file /opt/ml/input/data/training/cache/cached_roberta_train_multi_label_512\u001b[0m\n",
      "\u001b[31m11/18/2019 05:28:20 - INFO - root -   Writing example 0 of 1000\u001b[0m\n",
      "\u001b[31m11/18/2019 05:28:21 - INFO - root -   Saving features into cached file /opt/ml/input/data/training/cache/cached_roberta_dev_multi_label_512\u001b[0m\n",
      "\u001b[31m11/18/2019 05:28:22 - INFO - root -   databunch labels: 6\u001b[0m\n",
      "\u001b[31m11/18/2019 05:28:22 - INFO - root -   multilabel: True, multilabel type: <class 'bool'>\u001b[0m\n",
      "\u001b[31m11/18/2019 05:28:22 - INFO - transformers.configuration_utils -   loading configuration file /opt/ml/code/pretrained_models/roberta-base/config.json\u001b[0m\n",
      "\u001b[31m11/18/2019 05:28:22 - INFO - transformers.configuration_utils -   Model config {\n",
      "  \"attention_probs_dropout_prob\": 0.1,\n",
      "  \"finetuning_task\": null,\n",
      "  \"hidden_act\": \"gelu\",\n",
      "  \"hidden_dropout_prob\": 0.1,\n",
      "  \"hidden_size\": 768,\n",
      "  \"initializer_range\": 0.02,\n",
      "  \"intermediate_size\": 3072,\n",
      "  \"layer_norm_eps\": 1e-05,\n",
      "  \"max_position_embeddings\": 514,\n",
      "  \"num_attention_heads\": 12,\n",
      "  \"num_hidden_layers\": 12,\n",
      "  \"num_labels\": 6,\n",
      "  \"output_attentions\": false,\n",
      "  \"output_hidden_states\": false,\n",
      "  \"output_past\": true,\n",
      "  \"pruned_heads\": {},\n",
      "  \"torchscript\": false,\n",
      "  \"type_vocab_size\": 1,\n",
      "  \"use_bfloat16\": false,\n",
      "  \"vocab_size\": 50265\u001b[0m\n",
      "\u001b[31m}\n",
      "\u001b[0m\n",
      "\u001b[31m11/18/2019 05:28:22 - INFO - transformers.modeling_utils -   loading weights file /opt/ml/code/pretrained_models/roberta-base/pytorch_model.bin\u001b[0m\n",
      "\n",
      "2019-11-18 05:28:14 Training - Training image download completed. Training in progress.\u001b[31m11/18/2019 05:28:28 - INFO - transformers.modeling_utils -   Weights of RobertaForMultiLabelSequenceClassification not initialized from pretrained model: ['classifier.dense.weight', 'classifier.dense.bias', 'classifier.out_proj.weight', 'classifier.out_proj.bias']\u001b[0m\n",
      "\u001b[31m11/18/2019 05:28:28 - INFO - transformers.modeling_utils -   Weights from pretrained model not used in RobertaForMultiLabelSequenceClassification: ['lm_head.bias', 'lm_head.dense.weight', 'lm_head.dense.bias', 'lm_head.layer_norm.weight', 'lm_head.layer_norm.bias', 'lm_head.decoder.weight']\u001b[0m\n",
      "\u001b[31m/opt/ml/model/tensorboard\u001b[0m\n",
      "\u001b[31mSelected optimization level O1:  Insert automatic casts around Pytorch functions and Tensor methods.\n",
      "\u001b[0m\n",
      "\u001b[31mDefaults for this optimization level are:\u001b[0m\n",
      "\u001b[31menabled                : True\u001b[0m\n",
      "\u001b[31mopt_level              : O1\u001b[0m\n",
      "\u001b[31mcast_model_type        : None\u001b[0m\n",
      "\u001b[31mpatch_torch_functions  : True\u001b[0m\n",
      "\u001b[31mkeep_batchnorm_fp32    : None\u001b[0m\n",
      "\u001b[31mmaster_weights         : None\u001b[0m\n",
      "\u001b[31mloss_scale             : dynamic\u001b[0m\n",
      "\u001b[31mProcessing user overrides (additional kwargs that are not None)...\u001b[0m\n",
      "\u001b[31mAfter processing overrides, optimization options are:\u001b[0m\n",
      "\u001b[31menabled                : True\u001b[0m\n",
      "\u001b[31mopt_level              : O1\u001b[0m\n",
      "\u001b[31mcast_model_type        : None\u001b[0m\n",
      "\u001b[31mpatch_torch_functions  : True\u001b[0m\n",
      "\u001b[31mkeep_batchnorm_fp32    : None\u001b[0m\n",
      "\u001b[31mmaster_weights         : None\u001b[0m\n",
      "\u001b[31mloss_scale             : dynamic\u001b[0m\n",
      "\u001b[31m11/18/2019 05:28:35 - INFO - root -   ***** Running training *****\u001b[0m\n",
      "\u001b[31m11/18/2019 05:28:35 - INFO - root -     Num examples = 1000\u001b[0m\n",
      "\u001b[31m11/18/2019 05:28:35 - INFO - root -     Num Epochs = 10\u001b[0m\n",
      "\u001b[31m11/18/2019 05:28:35 - INFO - root -     Total train batch size (w. parallel, distributed & accumulation) = 64\u001b[0m\n",
      "\u001b[31m11/18/2019 05:28:35 - INFO - root -     Gradient Accumulation steps = 1\u001b[0m\n",
      "\u001b[31m11/18/2019 05:28:35 - INFO - root -     Total optimization steps = 160\u001b[0m\n",
      "\u001b[31m/usr/local/lib/python3.7/dist-packages/torch/nn/parallel/_functions.py:61: UserWarning: Was asked to gather along dimension 0, but all input tensors were scalars; will instead unsqueeze and return a vector.\n",
      "  warnings.warn('Was asked to gather along dimension 0, but all '\u001b[0m\n",
      "\u001b[31m11/18/2019 05:28:57 - INFO - root -   Running evaluation\u001b[0m\n",
      "\u001b[31m11/18/2019 05:28:57 - INFO - root -     Num examples = 1000\u001b[0m\n",
      "\u001b[31m11/18/2019 05:28:57 - INFO - root -     Batch size = 128\u001b[0m\n",
      "\u001b[31m11/18/2019 05:28:59 - INFO - root -   eval_loss after epoch 1: 0.6754665225744247: \u001b[0m\n",
      "\u001b[31m11/18/2019 05:28:59 - INFO - root -   eval_accuracy_thresh after epoch 1: 0.5253333449363708: \u001b[0m\n",
      "\u001b[31m11/18/2019 05:28:59 - INFO - root -   eval_roc_auc after epoch 1: 0.7689667051362711: \u001b[0m\n",
      "\u001b[31m11/18/2019 05:28:59 - INFO - root -   eval_fbeta after epoch 1: 0.05643989518284798: \u001b[0m\n",
      "\u001b[31m11/18/2019 05:28:59 - INFO - root -   lr after epoch 1: 1.28e-06\u001b[0m\n",
      "\u001b[31m11/18/2019 05:28:59 - INFO - root -   train_loss after epoch 1: 0.6803215593099594\u001b[0m\n",
      "\u001b[31m11/18/2019 05:28:59 - INFO - root -   \n",
      "\u001b[0m\n",
      "\u001b[31m11/18/2019 05:29:06 - INFO - root -   Running evaluation\u001b[0m\n",
      "\u001b[31m11/18/2019 05:29:06 - INFO - root -     Num examples = 1000\u001b[0m\n",
      "\u001b[31m11/18/2019 05:29:06 - INFO - root -     Batch size = 128\u001b[0m\n",
      "\u001b[31m11/18/2019 05:29:08 - INFO - root -   eval_loss after epoch 2: 0.6472188830375671: \u001b[0m\n",
      "\u001b[31m11/18/2019 05:29:08 - INFO - root -   eval_accuracy_thresh after epoch 2: 0.7943333387374878: \u001b[0m\n",
      "\u001b[31m11/18/2019 05:29:08 - INFO - root -   eval_roc_auc after epoch 2: 0.7819371697435917: \u001b[0m\n",
      "\u001b[31m11/18/2019 05:29:08 - INFO - root -   eval_fbeta after epoch 2: 0.05643989518284798: \u001b[0m\n",
      "\u001b[31m11/18/2019 05:29:08 - INFO - root -   lr after epoch 2: 2.56e-06\u001b[0m\n",
      "\u001b[31m11/18/2019 05:29:08 - INFO - root -   train_loss after epoch 2: 0.6627043448388577\u001b[0m\n",
      "\u001b[31m11/18/2019 05:29:08 - INFO - root -   \n",
      "\u001b[0m\n",
      "\u001b[31m11/18/2019 05:29:15 - INFO - root -   Running evaluation\u001b[0m\n",
      "\u001b[31m11/18/2019 05:29:15 - INFO - root -     Num examples = 1000\u001b[0m\n",
      "\u001b[31m11/18/2019 05:29:15 - INFO - root -     Batch size = 128\u001b[0m\n",
      "\u001b[31m11/18/2019 05:29:17 - INFO - root -   eval_loss after epoch 3: 0.5540138110518456: \u001b[0m\n",
      "\u001b[31m11/18/2019 05:29:17 - INFO - root -   eval_accuracy_thresh after epoch 3: 0.9386666417121887: \u001b[0m\n",
      "\u001b[31m11/18/2019 05:29:17 - INFO - root -   eval_roc_auc after epoch 3: 0.8241660844761636: \u001b[0m\n",
      "\u001b[31m11/18/2019 05:29:17 - INFO - root -   eval_fbeta after epoch 3: 0.05643989518284798: \u001b[0m\n",
      "\u001b[31m11/18/2019 05:29:17 - INFO - root -   lr after epoch 3: 3.8400000000000005e-06\u001b[0m\n",
      "\u001b[31m11/18/2019 05:29:17 - INFO - root -   train_loss after epoch 3: 0.6109085120260715\u001b[0m\n",
      "\u001b[31m11/18/2019 05:29:17 - INFO - root -   \n",
      "\u001b[0m\n",
      "\u001b[31m11/18/2019 05:29:24 - INFO - root -   Running evaluation\u001b[0m\n",
      "\u001b[31m11/18/2019 05:29:24 - INFO - root -     Num examples = 1000\u001b[0m\n",
      "\u001b[31m11/18/2019 05:29:24 - INFO - root -     Batch size = 128\u001b[0m\n",
      "\u001b[31m11/18/2019 05:29:26 - INFO - root -   eval_loss after epoch 4: 0.3229699656367302: \u001b[0m\n",
      "\u001b[31m11/18/2019 05:29:26 - INFO - root -   eval_accuracy_thresh after epoch 4: 0.9703333377838135: \u001b[0m\n",
      "\u001b[31m11/18/2019 05:29:26 - INFO - root -   eval_roc_auc after epoch 4: 0.8011325696023222: \u001b[0m\n",
      "\u001b[31m11/18/2019 05:29:26 - INFO - root -   eval_fbeta after epoch 4: 0.03879454359412193: \u001b[0m\n",
      "\u001b[31m11/18/2019 05:29:26 - INFO - root -   lr after epoch 4: 5.12e-06\u001b[0m\n",
      "\u001b[31m11/18/2019 05:29:26 - INFO - root -   train_loss after epoch 4: 0.4695482775568962\u001b[0m\n",
      "\u001b[31m11/18/2019 05:29:26 - INFO - root -   \n",
      "\u001b[0m\n",
      "\u001b[31m11/18/2019 05:29:33 - INFO - root -   Running evaluation\u001b[0m\n",
      "\u001b[31m11/18/2019 05:29:33 - INFO - root -     Num examples = 1000\u001b[0m\n",
      "\u001b[31m11/18/2019 05:29:33 - INFO - root -     Batch size = 128\u001b[0m\n",
      "\u001b[31m11/18/2019 05:29:35 - INFO - root -   eval_loss after epoch 5: 0.1809173971414566: \u001b[0m\n",
      "\u001b[31m11/18/2019 05:29:35 - INFO - root -   eval_accuracy_thresh after epoch 5: 0.9703333377838135: \u001b[0m\n",
      "\u001b[31m11/18/2019 05:29:35 - INFO - root -   eval_roc_auc after epoch 5: 0.8132726890253551: \u001b[0m\n",
      "\u001b[31m11/18/2019 05:29:35 - INFO - root -   eval_fbeta after epoch 5: 0.0: \u001b[0m\n",
      "\u001b[31m11/18/2019 05:29:35 - INFO - root -   lr after epoch 5: 6.4000000000000006e-06\u001b[0m\n",
      "\u001b[31m11/18/2019 05:29:35 - INFO - root -   train_loss after epoch 5: 0.27993842493742704\u001b[0m\n",
      "\u001b[31m11/18/2019 05:29:35 - INFO - root -   \n",
      "\u001b[0m\n",
      "\u001b[31m11/18/2019 05:29:42 - INFO - root -   Running evaluation\u001b[0m\n",
      "\u001b[31m11/18/2019 05:29:42 - INFO - root -     Num examples = 1000\u001b[0m\n",
      "\u001b[31m11/18/2019 05:29:42 - INFO - root -     Batch size = 128\u001b[0m\n",
      "\u001b[31m11/18/2019 05:29:44 - INFO - root -   eval_loss after epoch 6: 0.14499268680810928: \u001b[0m\n",
      "\u001b[31m11/18/2019 05:29:44 - INFO - root -   eval_accuracy_thresh after epoch 6: 0.9703333377838135: \u001b[0m\n",
      "\u001b[31m11/18/2019 05:29:44 - INFO - root -   eval_roc_auc after epoch 6: 0.8310433304127312: \u001b[0m\n",
      "\u001b[31m11/18/2019 05:29:44 - INFO - root -   eval_fbeta after epoch 6: 0.0: \u001b[0m\n",
      "\u001b[31m11/18/2019 05:29:44 - INFO - root -   lr after epoch 6: 7.680000000000001e-06\u001b[0m\n",
      "\u001b[31m11/18/2019 05:29:44 - INFO - root -   train_loss after epoch 6: 0.1904140431433916\u001b[0m\n",
      "\u001b[31m11/18/2019 05:29:44 - INFO - root -   \n",
      "\u001b[0m\n",
      "\u001b[31m11/18/2019 05:29:51 - INFO - root -   Running evaluation\u001b[0m\n",
      "\u001b[31m11/18/2019 05:29:51 - INFO - root -     Num examples = 1000\u001b[0m\n",
      "\u001b[31m11/18/2019 05:29:51 - INFO - root -     Batch size = 128\u001b[0m\n",
      "\u001b[31m11/18/2019 05:29:53 - INFO - root -   eval_loss after epoch 7: 0.12962306290864944: \u001b[0m\n",
      "\u001b[31m11/18/2019 05:29:53 - INFO - root -   eval_accuracy_thresh after epoch 7: 0.9703333377838135: \u001b[0m\n",
      "\u001b[31m11/18/2019 05:29:53 - INFO - root -   eval_roc_auc after epoch 7: 0.8646252687404228: \u001b[0m\n",
      "\u001b[31m11/18/2019 05:29:53 - INFO - root -   eval_fbeta after epoch 7: 0.0: \u001b[0m\n",
      "\u001b[31m11/18/2019 05:29:53 - INFO - root -   lr after epoch 7: 8.96e-06\u001b[0m\n",
      "\u001b[31m11/18/2019 05:29:53 - INFO - root -   train_loss after epoch 7: 0.16062315553426743\u001b[0m\n",
      "\u001b[31m11/18/2019 05:29:53 - INFO - root -   \n",
      "\u001b[0m\n",
      "\u001b[31m11/18/2019 05:30:00 - INFO - root -   Running evaluation\u001b[0m\n",
      "\u001b[31m11/18/2019 05:30:00 - INFO - root -     Num examples = 1000\u001b[0m\n",
      "\u001b[31m11/18/2019 05:30:00 - INFO - root -     Batch size = 128\u001b[0m\n",
      "\u001b[31m11/18/2019 05:30:02 - INFO - root -   eval_loss after epoch 8: 0.10711278952658176: \u001b[0m\n",
      "\u001b[31m11/18/2019 05:30:02 - INFO - root -   eval_accuracy_thresh after epoch 8: 0.9713333249092102: \u001b[0m\n",
      "\u001b[31m11/18/2019 05:30:02 - INFO - root -   eval_roc_auc after epoch 8: 0.9400424194936681: \u001b[0m\n",
      "\u001b[31m11/18/2019 05:30:02 - INFO - root -   eval_fbeta after epoch 8: 0.0358787402510643: \u001b[0m\n",
      "\u001b[31m11/18/2019 05:30:02 - INFO - root -   lr after epoch 8: 1.024e-05\u001b[0m\n",
      "\u001b[31m11/18/2019 05:30:02 - INFO - root -   train_loss after epoch 8: 0.13581831380724907\u001b[0m\n",
      "\u001b[31m11/18/2019 05:30:02 - INFO - root -   \n",
      "\u001b[0m\n",
      "\u001b[31m11/18/2019 05:30:09 - INFO - root -   Running evaluation\u001b[0m\n",
      "\u001b[31m11/18/2019 05:30:09 - INFO - root -     Num examples = 1000\u001b[0m\n",
      "\u001b[31m11/18/2019 05:30:09 - INFO - root -     Batch size = 128\u001b[0m\n",
      "\u001b[31m11/18/2019 05:30:10 - INFO - root -   eval_loss after epoch 9: 0.1010807529091835: \u001b[0m\n",
      "\u001b[31m11/18/2019 05:30:10 - INFO - root -   eval_accuracy_thresh after epoch 9: 0.9710000157356262: \u001b[0m\n",
      "\u001b[31m11/18/2019 05:30:10 - INFO - root -   eval_roc_auc after epoch 9: 0.9526601924509512: \u001b[0m\n",
      "\u001b[31m11/18/2019 05:30:10 - INFO - root -   eval_fbeta after epoch 9: 0.05392934009432793: \u001b[0m\n",
      "\u001b[31m11/18/2019 05:30:10 - INFO - root -   lr after epoch 9: 1.152e-05\u001b[0m\n",
      "\u001b[31m11/18/2019 05:30:10 - INFO - root -   train_loss after epoch 9: 0.10212004324421287\u001b[0m\n",
      "\u001b[31m11/18/2019 05:30:10 - INFO - root -   \n",
      "\u001b[0m\n",
      "\u001b[31m11/18/2019 05:30:18 - INFO - root -   Running evaluation\u001b[0m\n",
      "\u001b[31m11/18/2019 05:30:18 - INFO - root -     Num examples = 1000\u001b[0m\n",
      "\u001b[31m11/18/2019 05:30:18 - INFO - root -     Batch size = 128\u001b[0m\n",
      "\u001b[31m11/18/2019 05:30:19 - INFO - root -   eval_loss after epoch 10: 0.08239134401082993: \u001b[0m\n",
      "\u001b[31m11/18/2019 05:30:19 - INFO - root -   eval_accuracy_thresh after epoch 10: 0.9763333201408386: \u001b[0m\n",
      "\u001b[31m11/18/2019 05:30:19 - INFO - root -   eval_roc_auc after epoch 10: 0.9569170986455868: \u001b[0m\n",
      "\u001b[31m11/18/2019 05:30:19 - INFO - root -   eval_fbeta after epoch 10: 0.04201887175440788: \u001b[0m\n",
      "\u001b[31m11/18/2019 05:30:19 - INFO - root -   lr after epoch 10: 1.2800000000000001e-05\u001b[0m\n",
      "\u001b[31m11/18/2019 05:30:19 - INFO - root -   train_loss after epoch 10: 0.08527934551239014\u001b[0m\n",
      "\u001b[31m11/18/2019 05:30:19 - INFO - root -   \n",
      "\u001b[0m\n",
      "\u001b[31m11/18/2019 05:30:20 - INFO - transformers.configuration_utils -   Configuration saved in /opt/ml/model/model_out/config.json\u001b[0m\n",
      "\u001b[31m11/18/2019 05:30:20 - INFO - transformers.modeling_utils -   Model weights saved in /opt/ml/model/model_out/pytorch_model.bin\u001b[0m\n",
      "\n",
      "2019-11-18 05:30:26 Uploading - Uploading generated training model\n",
      "2019-11-18 05:32:12 Completed - Training job completed\n",
      "Training seconds: 381\n",
      "Billable seconds: 381\n"
     ]
    }
   ],
   "source": [
    "estimator.fit(s3_input)"
   ]
  },
  {
   "cell_type": "markdown",
   "metadata": {},
   "source": [
    "## Deploy the model to hosting service"
   ]
  },
  {
   "cell_type": "code",
   "execution_count": 14,
   "metadata": {},
   "outputs": [
    {
     "name": "stdout",
     "output_type": "stream",
     "text": [
      "--------------------------------------------------------------------------------------------------------------!"
     ]
    }
   ],
   "source": [
    "predictor = estimator.deploy(1, \n",
    "                             'ml.m5.large', \n",
    "                             endpoint_name='bert-toxic-comments', \n",
    "                             serializer=json_serializer)"
   ]
  },
  {
   "cell_type": "code",
   "execution_count": 15,
   "metadata": {},
   "outputs": [
    {
     "name": "stdout",
     "output_type": "stream",
     "text": [
      "Our result for this payload is: [[\"toxic\", 9.29754605749622e-05], [\"insult\", 4.071386865689419e-05], [\"obscene\", 3.189296694472432e-05], [\"severe_toxic\", 2.644667256390676e-05], [\"identity_hate\", 1.8441571228322573e-05], [\"threat\", 1.307918591919588e-05]]\n"
     ]
    }
   ],
   "source": [
    "### Invoke the Endpoint\n",
    "client = boto3.client('sagemaker-runtime')\n",
    "\n",
    "sample_payload='{\"text\": \"this is really really good thanks for recommending!!\"}'\n",
    "\n",
    "response = client.invoke_endpoint(\n",
    "    EndpointName='bert-toxic-comments',\n",
    "    Body=sample_payload,\n",
    "    ContentType='application/json'\n",
    ")\n",
    "print('Our result for this payload is: {}'.format(response['Body'].read().decode('ascii')))"
   ]
  },
  {
   "cell_type": "code",
   "execution_count": null,
   "metadata": {},
   "outputs": [],
   "source": []
  },
  {
   "cell_type": "code",
   "execution_count": null,
   "metadata": {},
   "outputs": [],
   "source": []
  }
 ],
 "metadata": {
  "kernelspec": {
   "display_name": "Python 3",
   "language": "python",
   "name": "python3"
  },
  "language_info": {
   "codemirror_mode": {
    "name": "ipython",
    "version": 3
   },
   "file_extension": ".py",
   "mimetype": "text/x-python",
   "name": "python",
   "nbconvert_exporter": "python",
   "pygments_lexer": "ipython3",
   "version": "3.7.3"
  }
 },
 "nbformat": 4,
 "nbformat_minor": 4
}
