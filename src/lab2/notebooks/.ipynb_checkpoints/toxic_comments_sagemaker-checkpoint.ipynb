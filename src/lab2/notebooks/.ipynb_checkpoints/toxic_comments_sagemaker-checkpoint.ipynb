{
 "cells": [
  {
   "cell_type": "code",
   "execution_count": 1,
   "metadata": {},
   "outputs": [],
   "source": [
    "import sagemaker\n",
    "from pathlib import Path\n",
    "from sagemaker.predictor import json_serializer\n",
    "import json\n",
    "import numpy as np\n",
    "import boto3"
   ]
  },
  {
   "cell_type": "code",
   "execution_count": 2,
   "metadata": {},
   "outputs": [],
   "source": [
    "role = sagemaker.get_execution_role()\n",
    "session = sagemaker.Session()"
   ]
  },
  {
   "cell_type": "markdown",
   "metadata": {},
   "source": [
    "## Setup Path "
   ]
  },
  {
   "cell_type": "code",
   "execution_count": 3,
   "metadata": {},
   "outputs": [],
   "source": [
    "# location for train.csv, val.csv and labels.csv\n",
    "DATA_PATH = Path(\"../sm-data/\")   \n",
    "\n",
    "# Location for storing training_config.json\n",
    "CONFIG_PATH = DATA_PATH/'config'\n",
    "CONFIG_PATH.mkdir(exist_ok=True)\n",
    "\n",
    "suffix = str(np.random.uniform())[4:9]\n",
    "\n",
    "# S3 bucket name\n",
    "bucket = 'toxic-pytorch-sagemaker-' + suffix\n",
    "\n",
    "# Prefix for S3 bucket for input and output\n",
    "prefix = 'toxic_comments/input'\n",
    "prefix_output = 'toxic_comments/output'"
   ]
  },
  {
   "cell_type": "code",
   "execution_count": 4,
   "metadata": {},
   "outputs": [
    {
     "name": "stdout",
     "output_type": "stream",
     "text": [
      "make_bucket: toxic-pytorch-sagemaker-25884\n"
     ]
    }
   ],
   "source": [
    "!aws s3 mb s3://{bucket}"
   ]
  },
  {
   "cell_type": "markdown",
   "metadata": {},
   "source": [
    "## Hyperparameters & Training Config"
   ]
  },
  {
   "cell_type": "code",
   "execution_count": 5,
   "metadata": {},
   "outputs": [],
   "source": [
    "hyperparameters = {\n",
    "    \"epochs\": 10,\n",
    "    \"lr\": 8e-5,\n",
    "    \"max_seq_length\": 512,\n",
    "    \"train_batch_size\": 16,\n",
    "    \"lr_schedule\": \"warmup_cosine\",\n",
    "    \"warmup_steps\": 1000,\n",
    "    \"optimizer_type\": \"adamw\"\n",
    "}"
   ]
  },
  {
   "cell_type": "code",
   "execution_count": 6,
   "metadata": {},
   "outputs": [],
   "source": [
    "training_config = {\n",
    "    \"run_text\": \"toxic comments\",\n",
    "    \"finetuned_model\": None,\n",
    "    \"do_lower_case\": \"True\",\n",
    "    \"train_file\": \"train.csv\",\n",
    "    \"val_file\": \"val.csv\",\n",
    "    \"label_file\": \"labels.csv\",\n",
    "    \"text_col\": \"comment_text\",\n",
    "    \"label_col\": '[\"toxic\", \"severe_toxic\", \"obscene\", \"threat\", \"insult\", \"identity_hate\"]',\n",
    "    \"multi_label\": \"True\",\n",
    "    \"grad_accumulation_steps\": \"1\",\n",
    "    \"fp16_opt_level\": \"O1\",\n",
    "    \"fp16\": \"True\",\n",
    "    \"model_type\": \"roberta\",\n",
    "    \"model_name\": \"roberta-base\",\n",
    "    \"logging_steps\": \"300\"\n",
    "}\n",
    "\n",
    "with open(CONFIG_PATH/'training_config.json', 'w') as f:\n",
    "    json.dump(training_config, f)"
   ]
  },
  {
   "cell_type": "markdown",
   "metadata": {},
   "source": [
    "## Upload Data"
   ]
  },
  {
   "cell_type": "code",
   "execution_count": 7,
   "metadata": {},
   "outputs": [
    {
     "data": {
      "text/plain": [
       "'s3://toxic-pytorch-sagemaker-25884/toxic_comments/input/val.csv'"
      ]
     },
     "execution_count": 7,
     "metadata": {},
     "output_type": "execute_result"
    }
   ],
   "source": [
    "# This is a helper feature to upload data\n",
    "# from your local machine to S3 bucket.\n",
    "\n",
    "s3_input = session.upload_data(DATA_PATH, bucket=bucket , key_prefix=prefix)\n",
    "\n",
    "session.upload_data(str(DATA_PATH/'val.csv'), bucket=bucket , key_prefix=prefix)"
   ]
  },
  {
   "cell_type": "code",
   "execution_count": 8,
   "metadata": {},
   "outputs": [
    {
     "data": {
      "text/plain": [
       "'s3://toxic-pytorch-sagemaker-25884/toxic_comments/input/labels.csv'"
      ]
     },
     "execution_count": 8,
     "metadata": {},
     "output_type": "execute_result"
    }
   ],
   "source": [
    "session.upload_data(str(DATA_PATH/'labels.csv'), bucket=bucket , key_prefix=prefix)"
   ]
  },
  {
   "cell_type": "code",
   "execution_count": 9,
   "metadata": {},
   "outputs": [
    {
     "data": {
      "text/plain": [
       "'s3://toxic-pytorch-sagemaker-25884/toxic_comments/input/train.csv'"
      ]
     },
     "execution_count": 9,
     "metadata": {},
     "output_type": "execute_result"
    }
   ],
   "source": [
    "session.upload_data(str(DATA_PATH/'train.csv'), bucket=bucket , key_prefix=prefix)"
   ]
  },
  {
   "cell_type": "markdown",
   "metadata": {},
   "source": [
    "## Create an Estimator and start training"
   ]
  },
  {
   "cell_type": "code",
   "execution_count": 10,
   "metadata": {},
   "outputs": [],
   "source": [
    "#account = session.boto_session.client('sts').get_caller_identity()['Account']\n",
    "#region = session.boto_session.region_name\n",
    "\n",
    "#image = \"{}.dkr.ecr.{}.amazonaws.com/sagemaker-bert:1.0-gpu-py36\".format(account, region)\n",
    "image = \"111652037296.dkr.ecr.us-west-2.amazonaws.com/chazarey-sagemaker-fast-bert:1.0-gpu-py36\"\n",
    "#TODO Convert this to using SM Pytorch "
   ]
  },
  {
   "cell_type": "code",
   "execution_count": 11,
   "metadata": {},
   "outputs": [],
   "source": [
    "output_path = \"s3://{}/{}\".format(bucket, prefix_output)"
   ]
  },
  {
   "cell_type": "code",
   "execution_count": 12,
   "metadata": {},
   "outputs": [],
   "source": [
    "estimator = sagemaker.estimator.Estimator(image, \n",
    "                                          role,\n",
    "                                          train_instance_count=1, \n",
    "                                          train_instance_type='ml.p3.8xlarge', \n",
    "                                          output_path=output_path, \n",
    "                                          base_job_name='toxic-comments',\n",
    "                                          hyperparameters=hyperparameters,\n",
    "                                          sagemaker_session=session\n",
    "                                         )"
   ]
  },
  {
   "cell_type": "code",
   "execution_count": 13,
   "metadata": {},
   "outputs": [
    {
     "name": "stdout",
     "output_type": "stream",
     "text": [
      "2019-11-16 07:23:52 Starting - Starting the training job...\n",
      "2019-11-16 07:23:54 Starting - Launching requested ML instances......\n",
      "2019-11-16 07:24:56 Starting - Preparing the instances for training......\n",
      "2019-11-16 07:26:02 Downloading - Downloading input data\n",
      "2019-11-16 07:26:02 Training - Downloading the training image............\n",
      "2019-11-16 07:28:09 Training - Training image download completed. Training in progress.\n",
      "\u001b[31mStarting the training.\u001b[0m\n",
      "\u001b[31m/opt/ml/input/data/training/config/training_config.json\u001b[0m\n",
      "\u001b[31m{'run_text': 'toxic comments', 'finetuned_model': None, 'do_lower_case': 'True', 'train_file': 'train.csv', 'val_file': 'val.csv', 'label_file': 'labels.csv', 'text_col': 'comment_text', 'label_col': '[\"toxic\", \"severe_toxic\", \"obscene\", \"threat\", \"insult\", \"identity_hate\"]', 'multi_label': 'True', 'grad_accumulation_steps': '1', 'fp16_opt_level': 'O1', 'fp16': 'True', 'model_type': 'roberta', 'model_name': 'roberta-base', 'logging_steps': '300'}\u001b[0m\n",
      "\u001b[31m{'train_batch_size': '16', 'warmup_steps': '1000', 'lr': '8e-05', 'max_seq_length': '512', 'optimizer_type': 'adamw', 'lr_schedule': 'warmup_cosine', 'epochs': '10'}\u001b[0m\n",
      "\u001b[31m11/16/2019 07:28:13 - INFO - root -   model path used /opt/ml/code/pretrained_models/roberta-base\u001b[0m\n",
      "\u001b[31m11/16/2019 07:28:13 - INFO - root -   finetuned model not available - loading standard pretrained model\u001b[0m\n",
      "\u001b[31m11/16/2019 07:28:13 - INFO - transformers.tokenization_utils -   Model name '/opt/ml/code/pretrained_models/roberta-base' not found in model shortcut name list (roberta-base, roberta-large, roberta-large-mnli). Assuming '/opt/ml/code/pretrained_models/roberta-base' is a path or url to a directory containing tokenizer files.\u001b[0m\n",
      "\u001b[31m11/16/2019 07:28:13 - INFO - transformers.tokenization_utils -   Didn't find file /opt/ml/code/pretrained_models/roberta-base/added_tokens.json. We won't load it.\u001b[0m\n",
      "\u001b[31m11/16/2019 07:28:13 - INFO - transformers.tokenization_utils -   Didn't find file /opt/ml/code/pretrained_models/roberta-base/special_tokens_map.json. We won't load it.\u001b[0m\n",
      "\u001b[31m11/16/2019 07:28:13 - INFO - transformers.tokenization_utils -   Didn't find file /opt/ml/code/pretrained_models/roberta-base/tokenizer_config.json. We won't load it.\u001b[0m\n",
      "\u001b[31m11/16/2019 07:28:13 - INFO - transformers.tokenization_utils -   loading file /opt/ml/code/pretrained_models/roberta-base/vocab.json\u001b[0m\n",
      "\u001b[31m11/16/2019 07:28:13 - INFO - transformers.tokenization_utils -   loading file /opt/ml/code/pretrained_models/roberta-base/merges.txt\u001b[0m\n",
      "\u001b[31m11/16/2019 07:28:13 - INFO - transformers.tokenization_utils -   loading file None\u001b[0m\n",
      "\u001b[31m11/16/2019 07:28:13 - INFO - transformers.tokenization_utils -   loading file None\u001b[0m\n",
      "\u001b[31m11/16/2019 07:28:13 - INFO - transformers.tokenization_utils -   loading file None\u001b[0m\n",
      "\u001b[31m11/16/2019 07:28:13 - INFO - root -   Number of GPUs: 4\u001b[0m\n",
      "\u001b[31m11/16/2019 07:28:13 - INFO - root -   label columns: ['toxic', 'severe_toxic', 'obscene', 'threat', 'insult', 'identity_hate']\u001b[0m\n",
      "\u001b[31m11/16/2019 07:28:13 - INFO - root -   Writing example 0 of 1000\u001b[0m\n",
      "\u001b[31m11/16/2019 07:28:14 - INFO - root -   Saving features into cached file /opt/ml/input/data/training/cache/cached_roberta_train_multi_label_512\u001b[0m\n",
      "\u001b[31m11/16/2019 07:28:16 - INFO - root -   Writing example 0 of 1000\u001b[0m\n",
      "\u001b[31m11/16/2019 07:28:17 - INFO - root -   Saving features into cached file /opt/ml/input/data/training/cache/cached_roberta_dev_multi_label_512\u001b[0m\n",
      "\u001b[31m11/16/2019 07:28:17 - INFO - root -   databunch labels: 6\u001b[0m\n",
      "\u001b[31m11/16/2019 07:28:17 - INFO - root -   multilabel: True, multilabel type: <class 'bool'>\u001b[0m\n",
      "\u001b[31m11/16/2019 07:28:17 - INFO - transformers.configuration_utils -   loading configuration file /opt/ml/code/pretrained_models/roberta-base/config.json\u001b[0m\n",
      "\u001b[31m11/16/2019 07:28:17 - INFO - transformers.configuration_utils -   Model config {\n",
      "  \"attention_probs_dropout_prob\": 0.1,\n",
      "  \"finetuning_task\": null,\n",
      "  \"hidden_act\": \"gelu\",\n",
      "  \"hidden_dropout_prob\": 0.1,\n",
      "  \"hidden_size\": 768,\n",
      "  \"initializer_range\": 0.02,\n",
      "  \"intermediate_size\": 3072,\n",
      "  \"layer_norm_eps\": 1e-05,\n",
      "  \"max_position_embeddings\": 514,\n",
      "  \"num_attention_heads\": 12,\n",
      "  \"num_hidden_layers\": 12,\n",
      "  \"num_labels\": 6,\n",
      "  \"output_attentions\": false,\n",
      "  \"output_hidden_states\": false,\n",
      "  \"output_past\": true,\n",
      "  \"pruned_heads\": {},\n",
      "  \"torchscript\": false,\n",
      "  \"type_vocab_size\": 1,\n",
      "  \"use_bfloat16\": false,\n",
      "  \"vocab_size\": 50265\u001b[0m\n",
      "\u001b[31m}\n",
      "\u001b[0m\n",
      "\u001b[31m11/16/2019 07:28:17 - INFO - transformers.modeling_utils -   loading weights file /opt/ml/code/pretrained_models/roberta-base/pytorch_model.bin\u001b[0m\n",
      "\u001b[31m11/16/2019 07:28:24 - INFO - transformers.modeling_utils -   Weights of RobertaForMultiLabelSequenceClassification not initialized from pretrained model: ['classifier.dense.weight', 'classifier.dense.bias', 'classifier.out_proj.weight', 'classifier.out_proj.bias']\u001b[0m\n",
      "\u001b[31m11/16/2019 07:28:24 - INFO - transformers.modeling_utils -   Weights from pretrained model not used in RobertaForMultiLabelSequenceClassification: ['lm_head.bias', 'lm_head.dense.weight', 'lm_head.dense.bias', 'lm_head.layer_norm.weight', 'lm_head.layer_norm.bias', 'lm_head.decoder.weight']\u001b[0m\n",
      "\u001b[31m/opt/ml/model/tensorboard\u001b[0m\n",
      "\u001b[31mSelected optimization level O1:  Insert automatic casts around Pytorch functions and Tensor methods.\n",
      "\u001b[0m\n",
      "\u001b[31mDefaults for this optimization level are:\u001b[0m\n",
      "\u001b[31menabled                : True\u001b[0m\n",
      "\u001b[31mopt_level              : O1\u001b[0m\n",
      "\u001b[31mcast_model_type        : None\u001b[0m\n",
      "\u001b[31mpatch_torch_functions  : True\u001b[0m\n",
      "\u001b[31mkeep_batchnorm_fp32    : None\u001b[0m\n",
      "\u001b[31mmaster_weights         : None\u001b[0m\n",
      "\u001b[31mloss_scale             : dynamic\u001b[0m\n",
      "\u001b[31mProcessing user overrides (additional kwargs that are not None)...\u001b[0m\n",
      "\u001b[31mAfter processing overrides, optimization options are:\u001b[0m\n",
      "\u001b[31menabled                : True\u001b[0m\n",
      "\u001b[31mopt_level              : O1\u001b[0m\n",
      "\u001b[31mcast_model_type        : None\u001b[0m\n",
      "\u001b[31mpatch_torch_functions  : True\u001b[0m\n",
      "\u001b[31mkeep_batchnorm_fp32    : None\u001b[0m\n",
      "\u001b[31mmaster_weights         : None\u001b[0m\n",
      "\u001b[31mloss_scale             : dynamic\u001b[0m\n",
      "\u001b[31m11/16/2019 07:28:30 - INFO - root -   ***** Running training *****\u001b[0m\n",
      "\u001b[31m11/16/2019 07:28:30 - INFO - root -     Num examples = 1000\u001b[0m\n",
      "\u001b[31m11/16/2019 07:28:30 - INFO - root -     Num Epochs = 10\u001b[0m\n",
      "\u001b[31m11/16/2019 07:28:30 - INFO - root -     Total train batch size (w. parallel, distributed & accumulation) = 64\u001b[0m\n",
      "\u001b[31m11/16/2019 07:28:30 - INFO - root -     Gradient Accumulation steps = 1\u001b[0m\n",
      "\u001b[31m11/16/2019 07:28:30 - INFO - root -     Total optimization steps = 160\u001b[0m\n",
      "\u001b[31m/usr/local/lib/python3.7/dist-packages/torch/nn/parallel/_functions.py:61: UserWarning: Was asked to gather along dimension 0, but all input tensors were scalars; will instead unsqueeze and return a vector.\n",
      "  warnings.warn('Was asked to gather along dimension 0, but all '\u001b[0m\n",
      "\u001b[31m11/16/2019 07:28:52 - INFO - root -   Running evaluation\u001b[0m\n",
      "\u001b[31m11/16/2019 07:28:52 - INFO - root -     Num examples = 1000\u001b[0m\n",
      "\u001b[31m11/16/2019 07:28:52 - INFO - root -     Batch size = 128\u001b[0m\n",
      "\u001b[31m11/16/2019 07:28:54 - INFO - root -   eval_loss after epoch 1: 0.6659312099218369: \u001b[0m\n",
      "\u001b[31m11/16/2019 07:28:54 - INFO - root -   eval_accuracy_thresh after epoch 1: 0.6389999985694885: \u001b[0m\n",
      "\u001b[31m11/16/2019 07:28:54 - INFO - root -   eval_roc_auc after epoch 1: 0.4408114899316425: \u001b[0m\n",
      "\u001b[31m11/16/2019 07:28:54 - INFO - root -   eval_fbeta after epoch 1: 0.05643989518284798: \u001b[0m\n",
      "\u001b[31m11/16/2019 07:28:54 - INFO - root -   lr after epoch 1: 1.28e-06\u001b[0m\n",
      "\u001b[31m11/16/2019 07:28:54 - INFO - root -   train_loss after epoch 1: 0.6712304428219795\u001b[0m\n",
      "\u001b[31m11/16/2019 07:28:54 - INFO - root -   \n",
      "\u001b[0m\n",
      "\u001b[31m11/16/2019 07:29:01 - INFO - root -   Running evaluation\u001b[0m\n",
      "\u001b[31m11/16/2019 07:29:01 - INFO - root -     Num examples = 1000\u001b[0m\n",
      "\u001b[31m11/16/2019 07:29:01 - INFO - root -     Batch size = 128\u001b[0m\n",
      "\u001b[31m11/16/2019 07:29:03 - INFO - root -   eval_loss after epoch 2: 0.6399206444621086: \u001b[0m\n",
      "\u001b[31m11/16/2019 07:29:03 - INFO - root -   eval_accuracy_thresh after epoch 2: 0.7991666793823242: \u001b[0m\n",
      "\u001b[31m11/16/2019 07:29:03 - INFO - root -   eval_roc_auc after epoch 2: 0.4649580822837822: \u001b[0m\n",
      "\u001b[31m11/16/2019 07:29:03 - INFO - root -   eval_fbeta after epoch 2: 0.05643989518284798: \u001b[0m\n",
      "\u001b[31m11/16/2019 07:29:03 - INFO - root -   lr after epoch 2: 2.56e-06\u001b[0m\n",
      "\u001b[31m11/16/2019 07:29:03 - INFO - root -   train_loss after epoch 2: 0.6537787429988384\u001b[0m\n",
      "\u001b[31m11/16/2019 07:29:03 - INFO - root -   \n",
      "\u001b[0m\n",
      "\u001b[31m11/16/2019 07:29:10 - INFO - root -   Running evaluation\u001b[0m\n",
      "\u001b[31m11/16/2019 07:29:10 - INFO - root -     Num examples = 1000\u001b[0m\n",
      "\u001b[31m11/16/2019 07:29:10 - INFO - root -     Batch size = 128\u001b[0m\n",
      "\u001b[31m11/16/2019 07:29:12 - INFO - root -   eval_loss after epoch 3: 0.5566249340772629: \u001b[0m\n",
      "\u001b[31m11/16/2019 07:29:12 - INFO - root -   eval_accuracy_thresh after epoch 3: 0.9703333377838135: \u001b[0m\n",
      "\u001b[31m11/16/2019 07:29:12 - INFO - root -   eval_roc_auc after epoch 3: 0.5342665750601168: \u001b[0m\n",
      "\u001b[31m11/16/2019 07:29:12 - INFO - root -   eval_fbeta after epoch 3: 0.05643989518284798: \u001b[0m\n",
      "\u001b[31m11/16/2019 07:29:12 - INFO - root -   lr after epoch 3: 3.8400000000000005e-06\u001b[0m\n",
      "\u001b[31m11/16/2019 07:29:12 - INFO - root -   train_loss after epoch 3: 0.6074457727372646\u001b[0m\n",
      "\u001b[31m11/16/2019 07:29:12 - INFO - root -   \n",
      "\u001b[0m\n",
      "\u001b[31m11/16/2019 07:29:19 - INFO - root -   Running evaluation\u001b[0m\n",
      "\u001b[31m11/16/2019 07:29:19 - INFO - root -     Num examples = 1000\u001b[0m\n",
      "\u001b[31m11/16/2019 07:29:19 - INFO - root -     Batch size = 128\u001b[0m\n",
      "\u001b[31m11/16/2019 07:29:21 - INFO - root -   eval_loss after epoch 4: 0.2775334231555462: \u001b[0m\n",
      "\u001b[31m11/16/2019 07:29:21 - INFO - root -   eval_accuracy_thresh after epoch 4: 0.9703333377838135: \u001b[0m\n",
      "\u001b[31m11/16/2019 07:29:21 - INFO - root -   eval_roc_auc after epoch 4: 0.7474414174826983: \u001b[0m\n",
      "\u001b[31m11/16/2019 07:29:21 - INFO - root -   eval_fbeta after epoch 4: 0.0010000000474974513: \u001b[0m\n",
      "\u001b[31m11/16/2019 07:29:21 - INFO - root -   lr after epoch 4: 5.12e-06\u001b[0m\n",
      "\u001b[31m11/16/2019 07:29:21 - INFO - root -   train_loss after epoch 4: 0.439605800434947\u001b[0m\n",
      "\u001b[31m11/16/2019 07:29:21 - INFO - root -   \n",
      "\u001b[0m\n",
      "\u001b[31m11/16/2019 07:29:28 - INFO - root -   Running evaluation\u001b[0m\n",
      "\u001b[31m11/16/2019 07:29:28 - INFO - root -     Num examples = 1000\u001b[0m\n",
      "\u001b[31m11/16/2019 07:29:28 - INFO - root -     Batch size = 128\u001b[0m\n",
      "\u001b[31m11/16/2019 07:29:30 - INFO - root -   eval_loss after epoch 5: 0.1677952092140913: \u001b[0m\n",
      "\u001b[31m11/16/2019 07:29:30 - INFO - root -   eval_accuracy_thresh after epoch 5: 0.9703333377838135: \u001b[0m\n",
      "\u001b[31m11/16/2019 07:29:30 - INFO - root -   eval_roc_auc after epoch 5: 0.8192404633335778: \u001b[0m\n",
      "\u001b[31m11/16/2019 07:29:30 - INFO - root -   eval_fbeta after epoch 5: 0.0: \u001b[0m\n",
      "\u001b[31m11/16/2019 07:29:30 - INFO - root -   lr after epoch 5: 6.4000000000000006e-06\u001b[0m\n",
      "\u001b[31m11/16/2019 07:29:30 - INFO - root -   train_loss after epoch 5: 0.24228131491690874\u001b[0m\n",
      "\u001b[31m11/16/2019 07:29:30 - INFO - root -   \n",
      "\u001b[0m\n",
      "\u001b[31m11/16/2019 07:29:37 - INFO - root -   Running evaluation\u001b[0m\n",
      "\u001b[31m11/16/2019 07:29:37 - INFO - root -     Num examples = 1000\u001b[0m\n",
      "\u001b[31m11/16/2019 07:29:37 - INFO - root -     Batch size = 128\u001b[0m\n",
      "\u001b[31m11/16/2019 07:29:39 - INFO - root -   eval_loss after epoch 6: 0.13996749091893435: \u001b[0m\n",
      "\u001b[31m11/16/2019 07:29:39 - INFO - root -   eval_accuracy_thresh after epoch 6: 0.9703333377838135: \u001b[0m\n",
      "\u001b[31m11/16/2019 07:29:39 - INFO - root -   eval_roc_auc after epoch 6: 0.8436176803214464: \u001b[0m\n",
      "\u001b[31m11/16/2019 07:29:39 - INFO - root -   eval_fbeta after epoch 6: 0.0: \u001b[0m\n",
      "\u001b[31m11/16/2019 07:29:39 - INFO - root -   lr after epoch 6: 7.680000000000001e-06\u001b[0m\n",
      "\u001b[31m11/16/2019 07:29:39 - INFO - root -   train_loss after epoch 6: 0.18005335237830877\u001b[0m\n",
      "\u001b[31m11/16/2019 07:29:39 - INFO - root -   \n",
      "\u001b[0m\n",
      "\u001b[31m11/16/2019 07:29:46 - INFO - root -   Running evaluation\u001b[0m\n",
      "\u001b[31m11/16/2019 07:29:46 - INFO - root -     Num examples = 1000\u001b[0m\n",
      "\u001b[31m11/16/2019 07:29:46 - INFO - root -     Batch size = 128\u001b[0m\n",
      "\u001b[31m11/16/2019 07:29:48 - INFO - root -   eval_loss after epoch 7: 0.11926068644970655: \u001b[0m\n",
      "\u001b[31m11/16/2019 07:29:48 - INFO - root -   eval_accuracy_thresh after epoch 7: 0.9703333377838135: \u001b[0m\n",
      "\u001b[31m11/16/2019 07:29:48 - INFO - root -   eval_roc_auc after epoch 7: 0.9459108032685011: \u001b[0m\n",
      "\u001b[31m11/16/2019 07:29:48 - INFO - root -   eval_fbeta after epoch 7: 0.009017884731292725: \u001b[0m\n",
      "\u001b[31m11/16/2019 07:29:48 - INFO - root -   lr after epoch 7: 8.96e-06\u001b[0m\n",
      "\u001b[31m11/16/2019 07:29:48 - INFO - root -   train_loss after epoch 7: 0.15115891164168715\u001b[0m\n",
      "\u001b[31m11/16/2019 07:29:48 - INFO - root -   \n",
      "\u001b[0m\n",
      "\u001b[31m11/16/2019 07:29:55 - INFO - root -   Running evaluation\u001b[0m\n",
      "\u001b[31m11/16/2019 07:29:55 - INFO - root -     Num examples = 1000\u001b[0m\n",
      "\u001b[31m11/16/2019 07:29:55 - INFO - root -     Batch size = 128\u001b[0m\n",
      "\u001b[31m11/16/2019 07:29:57 - INFO - root -   eval_loss after epoch 8: 0.10223802831023932: \u001b[0m\n",
      "\u001b[31m11/16/2019 07:29:57 - INFO - root -   eval_accuracy_thresh after epoch 8: 0.9748333096504211: \u001b[0m\n",
      "\u001b[31m11/16/2019 07:29:57 - INFO - root -   eval_roc_auc after epoch 8: 0.9312101714148967: \u001b[0m\n",
      "\u001b[31m11/16/2019 07:29:57 - INFO - root -   eval_fbeta after epoch 8: 0.03272134065628052: \u001b[0m\n",
      "\u001b[31m11/16/2019 07:29:57 - INFO - root -   lr after epoch 8: 1.024e-05\u001b[0m\n",
      "\u001b[31m11/16/2019 07:29:57 - INFO - root -   train_loss after epoch 8: 0.11929382057860494\u001b[0m\n",
      "\u001b[31m11/16/2019 07:29:57 - INFO - root -   \n",
      "\u001b[0m\n",
      "\u001b[31m11/16/2019 07:30:04 - INFO - root -   Running evaluation\u001b[0m\n",
      "\u001b[31m11/16/2019 07:30:04 - INFO - root -     Num examples = 1000\u001b[0m\n",
      "\u001b[31m11/16/2019 07:30:04 - INFO - root -     Batch size = 128\u001b[0m\n",
      "\u001b[31m11/16/2019 07:30:06 - INFO - root -   eval_loss after epoch 9: 0.10363092552870512: \u001b[0m\n",
      "\u001b[31m11/16/2019 07:30:06 - INFO - root -   eval_accuracy_thresh after epoch 9: 0.9673333168029785: \u001b[0m\n",
      "\u001b[31m11/16/2019 07:30:06 - INFO - root -   eval_roc_auc after epoch 9: 0.9572225074205165: \u001b[0m\n",
      "\u001b[31m11/16/2019 07:30:06 - INFO - root -   eval_fbeta after epoch 9: 0.054294172674417496: \u001b[0m\n",
      "\u001b[31m11/16/2019 07:30:06 - INFO - root -   lr after epoch 9: 1.152e-05\u001b[0m\n",
      "\u001b[31m11/16/2019 07:30:06 - INFO - root -   train_loss after epoch 9: 0.09253779333084822\u001b[0m\n",
      "\u001b[31m11/16/2019 07:30:06 - INFO - root -   \n",
      "\u001b[0m\n",
      "\n",
      "2019-11-16 07:30:20 Uploading - Uploading generated training model\u001b[31m11/16/2019 07:30:13 - INFO - root -   Running evaluation\u001b[0m\n",
      "\u001b[31m11/16/2019 07:30:13 - INFO - root -     Num examples = 1000\u001b[0m\n",
      "\u001b[31m11/16/2019 07:30:13 - INFO - root -     Batch size = 128\u001b[0m\n",
      "\u001b[31m11/16/2019 07:30:15 - INFO - root -   eval_loss after epoch 10: 0.08754973020404577: \u001b[0m\n",
      "\u001b[31m11/16/2019 07:30:15 - INFO - root -   eval_accuracy_thresh after epoch 10: 0.9776666760444641: \u001b[0m\n",
      "\u001b[31m11/16/2019 07:30:15 - INFO - root -   eval_roc_auc after epoch 10: 0.9274724118898097: \u001b[0m\n",
      "\u001b[31m11/16/2019 07:30:15 - INFO - root -   eval_fbeta after epoch 10: 0.029697172343730927: \u001b[0m\n",
      "\u001b[31m11/16/2019 07:30:15 - INFO - root -   lr after epoch 10: 1.2800000000000001e-05\u001b[0m\n",
      "\u001b[31m11/16/2019 07:30:15 - INFO - root -   train_loss after epoch 10: 0.07637065113522112\u001b[0m\n",
      "\u001b[31m11/16/2019 07:30:15 - INFO - root -   \n",
      "\u001b[0m\n",
      "\u001b[31m11/16/2019 07:30:15 - INFO - transformers.configuration_utils -   Configuration saved in /opt/ml/model/model_out/config.json\u001b[0m\n",
      "\u001b[31m11/16/2019 07:30:16 - INFO - transformers.modeling_utils -   Model weights saved in /opt/ml/model/model_out/pytorch_model.bin\u001b[0m\n",
      "\n",
      "2019-11-16 07:32:21 Completed - Training job completed\n",
      "Billable seconds: 386\n"
     ]
    }
   ],
   "source": [
    "estimator.fit(s3_input)"
   ]
  },
  {
   "cell_type": "markdown",
   "metadata": {},
   "source": [
    "## Deploy the model to hosting service"
   ]
  },
  {
   "cell_type": "code",
   "execution_count": 14,
   "metadata": {},
   "outputs": [
    {
     "name": "stdout",
     "output_type": "stream",
     "text": [
      "--------------------------------------------------------------------------------------------------!"
     ]
    }
   ],
   "source": [
    "predictor = estimator.deploy(1, \n",
    "                             'ml.m5.large', \n",
    "                             endpoint_name='bert-toxic-comments', \n",
    "                             serializer=json_serializer)"
   ]
  },
  {
   "cell_type": "code",
   "execution_count": 15,
   "metadata": {},
   "outputs": [
    {
     "ename": "NameError",
     "evalue": "name 'boto3' is not defined",
     "output_type": "error",
     "traceback": [
      "\u001b[0;31m---------------------------------------------------------------------------\u001b[0m",
      "\u001b[0;31mNameError\u001b[0m                                 Traceback (most recent call last)",
      "\u001b[0;32m<ipython-input-15-eab4b09f04f1>\u001b[0m in \u001b[0;36m<module>\u001b[0;34m()\u001b[0m\n\u001b[1;32m      1\u001b[0m \u001b[0;31m### Invoke the Endpoint\u001b[0m\u001b[0;34m\u001b[0m\u001b[0;34m\u001b[0m\u001b[0m\n\u001b[0;32m----> 2\u001b[0;31m \u001b[0mclient\u001b[0m \u001b[0;34m=\u001b[0m \u001b[0mboto3\u001b[0m\u001b[0;34m.\u001b[0m\u001b[0mclient\u001b[0m\u001b[0;34m(\u001b[0m\u001b[0;34m'sagemaker-runtime'\u001b[0m\u001b[0;34m)\u001b[0m\u001b[0;34m\u001b[0m\u001b[0m\n\u001b[0m\u001b[1;32m      3\u001b[0m \u001b[0;34m\u001b[0m\u001b[0m\n\u001b[1;32m      4\u001b[0m \u001b[0msample_payload\u001b[0m\u001b[0;34m=\u001b[0m\u001b[0;34m'{\"text\": \"this is really really good thanks for recommending!!\"}'\u001b[0m\u001b[0;34m\u001b[0m\u001b[0m\n\u001b[1;32m      5\u001b[0m \u001b[0;34m\u001b[0m\u001b[0m\n",
      "\u001b[0;31mNameError\u001b[0m: name 'boto3' is not defined"
     ]
    }
   ],
   "source": [
    "### Invoke the Endpoint\n",
    "client = boto3.client('sagemaker-runtime')\n",
    "\n",
    "sample_payload='{\"text\": \"this is really really good thanks for recommending!!\"}'\n",
    "\n",
    "response = client.invoke_endpoint(\n",
    "    EndpointName='bert-toxic-comments',\n",
    "    Body=sample_payload,\n",
    "    ContentType='application/json'\n",
    ")\n",
    "print('Our result for this payload is: {}'.format(response['Body'].read().decode('ascii')))"
   ]
  },
  {
   "cell_type": "code",
   "execution_count": null,
   "metadata": {},
   "outputs": [],
   "source": []
  },
  {
   "cell_type": "code",
   "execution_count": null,
   "metadata": {},
   "outputs": [],
   "source": []
  }
 ],
 "metadata": {
  "kernelspec": {
   "display_name": "conda_pytorch_p36",
   "language": "python",
   "name": "conda_pytorch_p36"
  },
  "language_info": {
   "codemirror_mode": {
    "name": "ipython",
    "version": 3
   },
   "file_extension": ".py",
   "mimetype": "text/x-python",
   "name": "python",
   "nbconvert_exporter": "python",
   "pygments_lexer": "ipython3",
   "version": "3.6.5"
  }
 },
 "nbformat": 4,
 "nbformat_minor": 4
}
